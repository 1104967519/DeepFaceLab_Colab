{
  "nbformat": 4,
  "nbformat_minor": 0,
  "metadata": {
    "colab": {
      "name": "DFL-Colab_Demo.ipynb",
      "version": "0.3.2",
      "provenance": [],
      "collapsed_sections": [
        "LBHhOsBQr54o",
        "n2j2xNq1sdm3",
        "RqWFioyUvBRQ",
        "hKQvhaW90cIh",
        "TyOEGvJA25N6",
        "qV6bknkH42qq"
      ],
      "toc_visible": true,
      "include_colab_link": true
    },
    "kernelspec": {
      "name": "python3",
      "display_name": "Python 3"
    },
    "accelerator": "GPU"
  },
  "cells": [
    {
      "cell_type": "markdown",
      "metadata": {
        "id": "view-in-github",
        "colab_type": "text"
      },
      "source": [
        "<a href=\"https://colab.research.google.com/github/chervonij/DFL-Colab/blob/master/DFL_Colab_Demo.ipynb\" target=\"_parent\"><img src=\"https://colab.research.google.com/assets/colab-badge.svg\" alt=\"Open In Colab\"/></a>"
      ]
    },
    {
      "metadata": {
        "id": "E52NuFxzohZu",
        "colab_type": "text"
      },
      "cell_type": "markdown",
      "source": [
        "# Welcome to DFL-Colab!\n",
        "\n",
        "It's a limited  demo of original DeepFaceLab.\n",
        "\n",
        "# Overview\n",
        "\n",
        "\n",
        "*   Extractor works in full functionality.\n",
        "*   Training work without preview (for now).\n",
        "*   Training log output fixed.\n",
        "*   Converter works in full functionality.\n",
        "*   You can import/export workspace with your Google Drive.\n",
        "*   Google Colab machine active for 12 hours, so don't forget to export workspace\n",
        "\n"
      ]
    },
    {
      "metadata": {
        "id": "LBHhOsBQr54o",
        "colab_type": "text"
      },
      "cell_type": "markdown",
      "source": [
        "# Step 1. Clone Github repository and install requirements.\n",
        "\n",
        "\n",
        "*   After requirements wil be install you need restart runtime (you will see button in output)\n",
        "*   Pull updates is an optional function if you need get update from repository\n",
        "\n"
      ]
    },
    {
      "metadata": {
        "id": "T3k-zQKZBPUZ",
        "colab_type": "code",
        "colab": {}
      },
      "cell_type": "code",
      "source": [
        "#Clone stable master branch(recommended)\n",
        "\n",
        "!git clone https://github.com/chervonij/DFL-Colab.git"
      ],
      "execution_count": 0,
      "outputs": []
    },
    {
      "metadata": {
        "id": "qLZ9kHxIP0jz",
        "colab_type": "code",
        "cellView": "both",
        "colab": {}
      },
      "cell_type": "code",
      "source": [
        "#Pull updates from repository\n",
        "\n",
        "%cd /content/DFL-Colab\n",
        "!git pull"
      ],
      "execution_count": 0,
      "outputs": []
    },
    {
      "metadata": {
        "id": "5UmoCpuEYpZo",
        "colab_type": "code",
        "colab": {}
      },
      "cell_type": "code",
      "source": [
        "#Install requirements\n",
        "\n",
        "!pip install -r /content/DFL-Colab/requirements.txt\n",
        "!pip install --upgrade scikit-image"
      ],
      "execution_count": 0,
      "outputs": []
    },
    {
      "metadata": {
        "id": "n2j2xNq1sdm3",
        "colab_type": "text"
      },
      "cell_type": "markdown",
      "source": [
        "# Step 2. Upload workspace from Google Drive\n",
        "\n",
        "*   Workspace must be named \"workspace.zip\"\n",
        "*   Inside archive you have a dir \"workspace\"\n",
        "\n"
      ]
    },
    {
      "metadata": {
        "id": "Ef7FF7jMEkp5",
        "colab_type": "code",
        "colab": {}
      },
      "cell_type": "code",
      "source": [
        "#Mount Google Drive as folder\n",
        "\n",
        "from google.colab import drive\n",
        "\n",
        "drive.mount('/content/drive', force_remount=True)"
      ],
      "execution_count": 0,
      "outputs": []
    },
    {
      "metadata": {
        "id": "BC7vWKG_BXAQ",
        "colab_type": "code",
        "colab": {}
      },
      "cell_type": "code",
      "source": [
        "#Copy zip archive of your workspace from Drive\n",
        "\n",
        "!cp /content/drive/My\\ Drive/workspace.zip /content/DFL-Colab\n",
        "%cd \"DFL-Colab\"\n",
        "\n",
        "!unzip workspace.zip"
      ],
      "execution_count": 0,
      "outputs": []
    },
    {
      "metadata": {
        "id": "RqWFioyUvBRQ",
        "colab_type": "text"
      },
      "cell_type": "markdown",
      "source": [
        "# Step 3. Extract faces\n",
        "\n",
        "*   Detect and align faces with S3FD detector\n",
        "*   Export workspace to Google Drive after extract and sort it manually \n"
      ]
    },
    {
      "metadata": {
        "id": "UeS6VsSGkYK8",
        "colab_type": "code",
        "colab": {}
      },
      "cell_type": "code",
      "source": [
        "!cd /content/DFL-Colab/"
      ],
      "execution_count": 0,
      "outputs": []
    },
    {
      "metadata": {
        "id": "SZBp8Cd7k7-N",
        "colab_type": "code",
        "colab": {}
      },
      "cell_type": "code",
      "source": [
        "#Extract frames from SRC video\n",
        "\n",
        "!python main.py videoed extract-video --input-file workspace/data_src.mp4 --output-dir workspace/data_src/"
      ],
      "execution_count": 0,
      "outputs": []
    },
    {
      "metadata": {
        "id": "dL5H-O5dkXEc",
        "colab_type": "code",
        "colab": {}
      },
      "cell_type": "code",
      "source": [
        "#Extract frames from DST video\n",
        "\n",
        "!python main.py videoed extract-video --input-file workspace/data_dst.mp4 --output-dir workspace/data_dst/"
      ],
      "execution_count": 0,
      "outputs": []
    },
    {
      "metadata": {
        "id": "WiJB2dn90GPp",
        "colab_type": "code",
        "colab": {}
      },
      "cell_type": "code",
      "source": [
        "#Extract data_src\n",
        "\n",
        "!python main.py extract --input-dir workspace/data_src --output-dir workspace/data_src/aligned --detector s3fd --debug"
      ],
      "execution_count": 0,
      "outputs": []
    },
    {
      "metadata": {
        "id": "Sfag58hSoYv9",
        "colab_type": "code",
        "colab": {}
      },
      "cell_type": "code",
      "source": [
        "#Extract data_dst\n",
        "\n",
        "!python main.py extract --input-dir workspace/data_dst --output-dir workspace/data_dst/aligned --detector s3fd --debug"
      ],
      "execution_count": 0,
      "outputs": []
    },
    {
      "metadata": {
        "id": "zYwTZjIslt9z",
        "colab_type": "code",
        "colab": {}
      },
      "cell_type": "code",
      "source": [
        "#Sort by histogram SRC faces\n",
        "\n",
        "!python main.py sort --input-dir workspace/data_src/aligned --by hist"
      ],
      "execution_count": 0,
      "outputs": []
    },
    {
      "metadata": {
        "id": "bYS5staPmFTE",
        "colab_type": "code",
        "colab": {}
      },
      "cell_type": "code",
      "source": [
        "#Sort by histogram DST faces\n",
        "\n",
        "!python main.py sort --input-dir workspace/data_dst/aligned --by hist"
      ],
      "execution_count": 0,
      "outputs": []
    },
    {
      "metadata": {
        "id": "AJqAulngEUu9",
        "colab_type": "code",
        "colab": {}
      },
      "cell_type": "code",
      "source": [
        "#Zip and copy workspace.zip to Google Drive\n",
        "\n",
        "!zip -r workspace.zip workspace\n",
        "!cp  /content/DFL-Colab/workspace_zip.zip /content/drive/My\\ Drive/"
      ],
      "execution_count": 0,
      "outputs": []
    },
    {
      "metadata": {
        "id": "hKQvhaW90cIh",
        "colab_type": "text"
      },
      "cell_type": "markdown",
      "source": [
        "# Step 4. Train model\n",
        "\n",
        "*   Only SAE\n",
        "*   Set model options on output field\n",
        "*   You can't get preview in output. (for now)\n",
        "*   Different samples are saved in SAE_history. You can see the last saved preview, if you run the block 'Show last preview ..', ut you have to stop training for this.\n",
        "*   Also, you can see the preview if you download the image from SAE_history manually. It does not require to stop training.\n",
        "*   I plan to make a preview for the notebook later\n",
        "*   For stop training you  need manually interrupt execution. You get error in output, but model will be saved.\n",
        "*   **DON'T FORGET TO EXPORT WORKSPACE**\n"
      ]
    },
    {
      "metadata": {
        "id": "9rFOk27pYrzw",
        "colab_type": "code",
        "colab": {}
      },
      "cell_type": "code",
      "source": [
        "!python main.py train --training-data-src-dir workspace/data_src/aligned --training-data-dst-dir workspace/data_dst/aligned --model-dir workspace/model --model SAE --no-preview"
      ],
      "execution_count": 0,
      "outputs": []
    },
    {
      "metadata": {
        "id": "XNhV3Hak3a1A",
        "colab_type": "code",
        "cellView": "form",
        "colab": {}
      },
      "cell_type": "code",
      "source": [
        "#@title #Show last preview from history { vertical-output: true }\n",
        "\n",
        "%matplotlib inline\n",
        "import numpy as np\n",
        "import matplotlib.pyplot as plt\n",
        "import matplotlib.image as img\n",
        "import glob\n",
        "import os\n",
        "from IPython.display import clear_output\n",
        "\n",
        "list_of_files = glob.glob('/content/DFL-Colab/workspace/model/SSAE_history/*') # * means all if need specific format then *.csv\n",
        "img_path = max(list_of_files, key=os.path.getctime)\n",
        "\n",
        "clear_output()\n",
        "imdata = img.imread(img_path)\n",
        "plt.figure(figsize=(10,10))\n",
        "plt.axis('off')\n",
        "plt.imshow(imdata)\n",
        "plt.show()\n"
      ],
      "execution_count": 0,
      "outputs": []
    },
    {
      "metadata": {
        "id": "TyOEGvJA25N6",
        "colab_type": "text"
      },
      "cell_type": "markdown",
      "source": [
        "# Step 5. Convert frames"
      ]
    },
    {
      "metadata": {
        "id": "c2iMliVDkXio",
        "colab_type": "code",
        "colab": {}
      },
      "cell_type": "code",
      "source": [
        "!python main.py convert --input-dir workspace/data_dst --output-dir workspace/data_dst/merged --aligned-dir workspace/data_dst/aligned --model-dir workspace/model --model SAE"
      ],
      "execution_count": 0,
      "outputs": []
    },
    {
      "metadata": {
        "id": "gmsRVti0d7vM",
        "colab_type": "code",
        "colab": {}
      },
      "cell_type": "code",
      "source": [
        "#If you need, you can zip your converted frames and export to Drive\n",
        "\n",
        "!zip -r workspace_merged.zip workspace/data_dst/merged\n",
        "!cp /content/DFL-Colab/workspace_merged.zip /content/drive/My\\ Drive/"
      ],
      "execution_count": 0,
      "outputs": []
    },
    {
      "metadata": {
        "id": "xrosMloInGnS",
        "colab_type": "code",
        "colab": {}
      },
      "cell_type": "code",
      "source": [
        "#Convert frames to result video \n",
        "\n",
        "!python main.py videoed video-from-sequence --input-dir workspace/data_dst/merged --output-file workspace/result.mp4 --reference-file workspace/data_dst.mp4"
      ],
      "execution_count": 0,
      "outputs": []
    },
    {
      "metadata": {
        "id": "p5bL0szJohFw",
        "colab_type": "code",
        "colab": {}
      },
      "cell_type": "code",
      "source": [
        "#Copy result video to Drive\n",
        "!cp /content/DFL-Colab/workspace/result.mp4 /content/drive/My\\ Drive/"
      ],
      "execution_count": 0,
      "outputs": []
    },
    {
      "metadata": {
        "id": "qV6bknkH42qq",
        "colab_type": "text"
      },
      "cell_type": "markdown",
      "source": [
        "# Zip workspace and export to Drive\n",
        "\n",
        "*   In this block you can export your workspace to Drive\n",
        "*   Don't forget backup your workspace, because Colab time limit is 12 hours\n",
        "*   Also, you can delete your model if something goes wrong\n",
        "\n"
      ]
    },
    {
      "metadata": {
        "id": "0t7XD_wbAlOD",
        "colab_type": "code",
        "colab": {}
      },
      "cell_type": "code",
      "source": [
        "#Zip workspace and copy to your Drive\n",
        "\n",
        "!zip -r workspace.zip workspace\n",
        "!cp  /content/DFL-Colab/workspace.zip /content/drive/My\\ Drive/"
      ],
      "execution_count": 0,
      "outputs": []
    },
    {
      "metadata": {
        "id": "kZchm8r3oPD0",
        "colab_type": "code",
        "colab": {}
      },
      "cell_type": "code",
      "source": [
        "#Delete your model if you need it\n",
        "\n",
        "!rm -R workspace/model/*"
      ],
      "execution_count": 0,
      "outputs": []
    },
    {
      "metadata": {
        "id": "-ako5TvAVJDE",
        "colab_type": "code",
        "colab": {}
      },
      "cell_type": "code",
      "source": [
        "#Delete SAE history images\n",
        "\n",
        "!rm workspace/model/SAE_history/*"
      ],
      "execution_count": 0,
      "outputs": []
    }
  ]
}