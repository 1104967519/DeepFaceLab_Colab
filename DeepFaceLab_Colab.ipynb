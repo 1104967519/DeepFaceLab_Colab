{
  "nbformat": 4,
  "nbformat_minor": 0,
  "metadata": {
    "colab": {
      "name": "DeepFaceLab_Colab.ipynb",
      "version": "0.3.2",
      "provenance": [],
      "collapsed_sections": [],
      "toc_visible": true,
      "include_colab_link": true
    },
    "kernelspec": {
      "name": "python3",
      "display_name": "Python 3"
    },
    "accelerator": "GPU"
  },
  "cells": [
    {
      "cell_type": "markdown",
      "metadata": {
        "id": "view-in-github",
        "colab_type": "text"
      },
      "source": [
        "<a href=\"https://colab.research.google.com/github/dream80/DeepFaceLab_Colab/blob/master/DeepFaceLab_Colab.ipynb\" target=\"_parent\"><img src=\"https://colab.research.google.com/assets/colab-badge.svg\" alt=\"Open In Colab\"/></a>"
      ]
    },
    {
      "metadata": {
        "id": "KWQMLYlFrTXz",
        "colab_type": "text"
      },
      "cell_type": "markdown",
      "source": [
        "# Overview\n",
        "\n",
        "Nothing to say , just run run run  it "
      ]
    },
    {
      "metadata": {
        "id": "ldpC3PjRrYYh",
        "colab_type": "text"
      },
      "cell_type": "markdown",
      "source": [
        "# Step 1 Upload your *workspace* to Google Drive\n",
        "\n",
        "\n",
        "1. Create a directory called ***DeepFaceLab*** in the root directory of Google Cloud.\n",
        "2. Upload ***workspace.zip*** to ***DeepFaceLab***  \n",
        "3. Mount Google Drive as folder\n",
        "4. Enter the directory by command\n",
        "\n"
      ]
    },
    {
      "metadata": {
        "id": "D7toZxhT4J9W",
        "colab_type": "code",
        "cellView": "both",
        "colab": {}
      },
      "cell_type": "code",
      "source": [
        "#Mount Google Drive as folder\n",
        "\n",
        "from google.colab import drive\n",
        "\n",
        "drive.mount('/content/drive', force_remount=True)"
      ],
      "execution_count": 0,
      "outputs": []
    },
    {
      "metadata": {
        "id": "rDUpbJYR54dw",
        "colab_type": "code",
        "cellView": "both",
        "colab": {}
      },
      "cell_type": "code",
      "source": [
        "# Enter the directory \n",
        "%cd /content/drive/My Drive/DeepFaceLab/"
      ],
      "execution_count": 0,
      "outputs": []
    },
    {
      "metadata": {
        "id": "w6ViQYB_Cupc",
        "colab_type": "code",
        "colab": {}
      },
      "cell_type": "code",
      "source": [
        "!unzip workspace.zip"
      ],
      "execution_count": 0,
      "outputs": []
    },
    {
      "metadata": {
        "id": "yA4nziLPtAf9",
        "colab_type": "text"
      },
      "cell_type": "markdown",
      "source": [
        "#Step 2  Install DFL\n"
      ]
    },
    {
      "metadata": {
        "id": "4CbWbLzHzqTQ",
        "colab_type": "code",
        "colab": {}
      },
      "cell_type": "code",
      "source": [
        "#Clone stable master branch(recommended)\n",
        "\n",
        "!git clone https://github.com/dream80/DeepFaceLab_Colab.git"
      ],
      "execution_count": 0,
      "outputs": []
    },
    {
      "metadata": {
        "id": "5MzbdSPEzsF6",
        "colab_type": "code",
        "colab": {}
      },
      "cell_type": "code",
      "source": [
        "# Into DeepFaceLab_Colab\n",
        "%cd /content/drive/My Drive/DeepFaceLab/DeepFaceLab_Colab\n",
        "\n",
        "#Pull updates from repository\n",
        "!git pull\n"
      ],
      "execution_count": 0,
      "outputs": []
    },
    {
      "metadata": {
        "id": "yd11UhiUvUfP",
        "colab_type": "code",
        "cellView": "both",
        "colab": {}
      },
      "cell_type": "code",
      "source": [
        "%cd /content/drive/My Drive/DeepFaceLab/DeepFaceLab_Colab\n",
        "\n",
        "#Install requirements\n",
        "#find bug tenser version must 1.13.1\n",
        "!pip install -r requirements_colab.txt\n",
        "!pip install --upgrade scikit-image"
      ],
      "execution_count": 0,
      "outputs": []
    },
    {
      "metadata": {
        "id": "9G9s5gJrty-x",
        "colab_type": "text"
      },
      "cell_type": "markdown",
      "source": [
        "# Step 3. Extract faces"
      ]
    },
    {
      "metadata": {
        "id": "97VTmSmkEk2j",
        "colab_type": "code",
        "cellView": "both",
        "colab": {}
      },
      "cell_type": "code",
      "source": [
        "# Into DeepFaceLab_Colab\n",
        "\n",
        "%cd /content/drive/My Drive/DeepFaceLab/DeepFaceLab_Colab"
      ],
      "execution_count": 0,
      "outputs": []
    },
    {
      "metadata": {
        "id": "z35vHpqaw8t-",
        "colab_type": "code",
        "cellView": "both",
        "colab": {}
      },
      "cell_type": "code",
      "source": [
        "#Extract frames from DST video\n",
        "\n",
        "!python main.py videoed extract-video --input-file ../workspace/data_dst.mp4 --output-dir ../workspace/data_dst/"
      ],
      "execution_count": 0,
      "outputs": []
    },
    {
      "metadata": {
        "id": "EbAY9bJvxDBK",
        "colab_type": "code",
        "cellView": "both",
        "colab": {}
      },
      "cell_type": "code",
      "source": [
        "#Extract Face from data_dst\n",
        "\n",
        "!python main.py extract --input-dir ../workspace/data_dst --output-dir ../workspace/data_dst/aligned --detector s3fd --debug-dir ../workspace/data_dst/aligned_debug"
      ],
      "execution_count": 0,
      "outputs": []
    },
    {
      "metadata": {
        "id": "PJs_yo-F8IBS",
        "colab_type": "code",
        "cellView": "both",
        "colab": {}
      },
      "cell_type": "code",
      "source": [
        "#Sort by histogram DST faces\n",
        "\n",
        "!python main.py sort --input-dir ../workspace/data_dst/aligned --by hist"
      ],
      "execution_count": 0,
      "outputs": []
    },
    {
      "metadata": {
        "id": "w8qxq7jAxGrQ",
        "colab_type": "code",
        "cellView": "both",
        "colab": {}
      },
      "cell_type": "code",
      "source": [
        "#Extract frames from SRC video\n",
        "\n",
        "!python main.py videoed extract-video --input-file ../workspace/data_src.mp4 --output-dir ../workspace/data_src/"
      ],
      "execution_count": 0,
      "outputs": []
    },
    {
      "metadata": {
        "id": "hpTukPbSxbGP",
        "colab_type": "code",
        "cellView": "both",
        "colab": {}
      },
      "cell_type": "code",
      "source": [
        "#Extract Face from data_src\n",
        "\n",
        "!python main.py extract --input-dir ../workspace/data_src --output-dir ../workspace/data_src/aligned --detector s3fd --debug-dir ../workspace/data_src/aligned_debug"
      ],
      "execution_count": 0,
      "outputs": []
    },
    {
      "metadata": {
        "id": "kWQsUODU8Ftg",
        "colab_type": "code",
        "cellView": "both",
        "colab": {}
      },
      "cell_type": "code",
      "source": [
        "#Sort by histogram SRC faces\n",
        "\n",
        "!python main.py sort --input-dir ../workspace/data_src/aligned --by hist"
      ],
      "execution_count": 0,
      "outputs": []
    },
    {
      "metadata": {
        "id": "QxO1kNO_uRTF",
        "colab_type": "text"
      },
      "cell_type": "markdown",
      "source": [
        "# Step 4. Train model\n",
        "\n",
        "\n",
        "*  Not only SAE, H128 is also possible\n",
        "*   For stop training you need manually interrupt execution. You get error in output, but model will be saved.\n"
      ]
    },
    {
      "metadata": {
        "id": "JOxI3qTaxr4x",
        "colab_type": "code",
        "cellView": "both",
        "colab": {}
      },
      "cell_type": "code",
      "source": [
        "# Running trainer.\n",
        "\n",
        "!python main.py train --training-data-src-dir ../workspace/data_src/aligned --training-data-dst-dir ../workspace/data_dst/aligned --model-dir ../workspace/model --model H128 --no-preview"
      ],
      "execution_count": 0,
      "outputs": []
    },
    {
      "metadata": {
        "id": "z37-OXb2I4Sd",
        "colab_type": "code",
        "cellView": "both",
        "colab": {}
      },
      "cell_type": "code",
      "source": [
        "# Stop tain ，Run this block ,Show last preview image\n",
        "\n",
        "import matplotlib.pyplot as plt\n",
        "import tensorflow as tf\n",
        "import numpy as np\n",
        "import os\n",
        "from google.colab import files\n",
        " \n",
        "print(tf.__version__)\n",
        "\n",
        "imgpath=\"/content/drive/My Drive/DeepFaceLab/workspace/model/SAE_history/\"\n",
        "tlist=os.listdir(imgpath)\n",
        "tlist.sort(key=lambda x:int(x[:-5]))\n",
        "lastpic=tlist[-1]\n",
        "\n",
        "image_raw = tf.gfile.GFile(imgpath+lastpic,'rb').read()   #bytes\n",
        "img = tf.image.decode_jpeg(image_raw)  #Tensor\n",
        "\n",
        "plt.rcParams['figure.figsize'] = (8, 4.0)\n",
        "plt.rcParams['image.interpolation'] = 'nearest'\n",
        "plt.rcParams['image.cmap'] = 'gray' \n",
        "plt.rcParams['savefig.dpi'] =200 \n",
        "plt.rcParams['figure.dpi'] = 200\n",
        "\n",
        "\n",
        "\n",
        "with tf.Session() as sess:\n",
        "    plt.imshow(img.eval())\n",
        " "
      ],
      "execution_count": 0,
      "outputs": []
    },
    {
      "metadata": {
        "id": "m2Ba96cVuS0K",
        "colab_type": "text"
      },
      "cell_type": "markdown",
      "source": [
        "# Step 5. Convert frames"
      ]
    },
    {
      "metadata": {
        "id": "__aUSMa80-_M",
        "colab_type": "code",
        "cellView": "both",
        "colab": {}
      },
      "cell_type": "code",
      "source": [
        "#Convert \n",
        "!python main.py convert --input-dir ../workspace/data_dst --output-dir ../workspace/data_dst/merged --aligned-dir ../workspace/data_dst/aligned --model-dir ../workspace/model --model H128"
      ],
      "execution_count": 0,
      "outputs": []
    },
    {
      "metadata": {
        "id": "symb8EIc1Csf",
        "colab_type": "code",
        "cellView": "both",
        "colab": {}
      },
      "cell_type": "code",
      "source": [
        "#Convert frames to result video \n",
        "\n",
        "!python main.py videoed video-from-sequence --input-dir ../workspace/data_dst/merged --output-file ../workspace/result.mp4 --reference-file ../workspace/data_dst.mp4"
      ],
      "execution_count": 0,
      "outputs": []
    },
    {
      "metadata": {
        "id": "5H85SsIW1PI3",
        "colab_type": "text"
      },
      "cell_type": "markdown",
      "source": [
        "# Others\n",
        "\n",
        "You can see the results of each step on google Drive\n",
        "\n",
        "https://drive.google.com/drive/my-drive"
      ]
    },
    {
      "metadata": {
        "id": "AmK6_0PF2jFz",
        "colab_type": "code",
        "colab": {}
      },
      "cell_type": "code",
      "source": [
        "!wget https://developer.download.nvidia.com/compute/cuda/repos/ubuntu1804/x86_64/cuda-repo-ubuntu1804_10.0.130-1_amd64.deb"
      ],
      "execution_count": 0,
      "outputs": []
    },
    {
      "metadata": {
        "id": "V0IsgCqk2qHX",
        "colab_type": "code",
        "colab": {}
      },
      "cell_type": "code",
      "source": [
        "!sudo dpkg -i cuda-repo-ubuntu1804_10.0.130-1_amd64.deb"
      ],
      "execution_count": 0,
      "outputs": []
    },
    {
      "metadata": {
        "id": "DY7t0I_E23TR",
        "colab_type": "code",
        "colab": {}
      },
      "cell_type": "code",
      "source": [
        "!sudo apt-key adv --fetch-keys https://developer.download.nvidia.com/compute/cuda/repos/ubuntu1804/x86_64/7fa2af80.pub"
      ],
      "execution_count": 0,
      "outputs": []
    },
    {
      "metadata": {
        "id": "M_bNjE4q3AtZ",
        "colab_type": "code",
        "colab": {}
      },
      "cell_type": "code",
      "source": [
        "!sudo apt-get update"
      ],
      "execution_count": 0,
      "outputs": []
    },
    {
      "metadata": {
        "id": "N367PVnC3Vvc",
        "colab_type": "code",
        "colab": {}
      },
      "cell_type": "code",
      "source": [
        "!sudo apt-get install --no-install-recommends nvidia-driver-418"
      ],
      "execution_count": 0,
      "outputs": []
    }
  ]
}